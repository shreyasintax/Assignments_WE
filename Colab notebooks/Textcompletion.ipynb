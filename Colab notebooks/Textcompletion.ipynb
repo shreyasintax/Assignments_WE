{
  "cells": [
    {
      "cell_type": "markdown",
      "source": [
        "Here's the modified code to accept text from the program itself instead of relying on a file:"
      ],
      "metadata": {
        "id": "TQoOYtwmozk8"
      }
    },
    {
      "cell_type": "code",
      "source": [
        "import random\n",
        "\n",
        "def generate_markov(text: str, start_word: str, chain_length: int, num_generated: int) -> str:\n",
        "  \"\"\"\n",
        "  Generates a sentence similar to the provided text using Markov chains.\n",
        "\n",
        "  Args:\n",
        "      text: The text to use for generating the sentence.\n",
        "      start_word: A single word to start the generation.\n",
        "      chain_length: The number of words to consider when predicting the next word.\n",
        "      num_generated: The number of words to generate in the output sentence.\n",
        "\n",
        "  Returns:\n",
        "      A sentence generated using the Markov chain model.\n",
        "  \"\"\"\n",
        "\n",
        "  # Preprocess the text (optional): lowercase, remove punctuation, etc.\n",
        "  # ... (you can add your own preprocessing steps here)\n",
        "\n",
        "  # Split the text into words\n",
        "  words = text.split()\n",
        "\n",
        "  # Create a dictionary to store word transitions\n",
        "  word_dict = {}\n",
        "  for i in range(len(words) - chain_length):\n",
        "    key = tuple(words[i:i + chain_length])  # Create a tuple as the key\n",
        "    if key not in word_dict:\n",
        "      word_dict[key] = {}\n",
        "    next_word = words[i + chain_length]\n",
        "    if next_word in word_dict[key]:\n",
        "      word_dict[key][next_word] += 1\n",
        "    else:\n",
        "      word_dict[key][next_word] = 1\n",
        "\n",
        "  # Generate the sentence\n",
        "  generated_sentence = [start_word] * chain_length  # Start with chain_length copies of start_word\n",
        "  for _ in range(num_generated):\n",
        "    # Get the last 'chain_length' words as the key\n",
        "    previous_words = tuple(generated_sentence[-chain_length:])\n",
        "    if previous_words not in word_dict:\n",
        "      # If the sequence is not found, randomly choose a word from the entire vocabulary\n",
        "      next_word = random.choice(words)\n",
        "    else:\n",
        "      # Choose a word based on probability distribution (weighted random choice)\n",
        "      word_choices = list(word_dict[previous_words].keys())\n",
        "      word_probs = [word_dict[previous_words][word] / sum(word_dict[previous_words].values()) for word in word_choices]\n",
        "      next_word = random.choices(word_choices, word_probs)[0]\n",
        "    generated_sentence.append(next_word)\n",
        "\n",
        "  # Return the generated sentence without the starting repetitions\n",
        "  return \" \".join(generated_sentence[chain_length:])\n",
        "\n",
        "# Example usage with user input\n",
        "user_text = input(\"Enter some text: \")\n",
        "start_word = \"The\"\n",
        "chain_length = 2\n",
        "num_generated = 10\n",
        "sentence = generate_markov(user_text, start_word, chain_length, num_generated)\n",
        "print(sentence)"
      ],
      "outputs": [
        {
          "output_type": "stream",
          "name": "stdout",
          "text": [
            "Enter some text: Hello I am checking this function\n",
            "checking am Hello am checking this function Hello function checking\n"
          ]
        }
      ],
      "execution_count": 1,
      "metadata": {
        "id": "JzgqtHWFozk_",
        "outputId": "d3163458-669d-46bf-8870-bc2e7b63fa3f",
        "colab": {
          "base_uri": "https://localhost:8080/"
        }
      }
    },
    {
      "cell_type": "markdown",
      "source": [
        "**Changes Made:**\n",
        "\n",
        "1. **Function Signature:** The function now takes `text` as a string argument instead of `filename`.\n",
        "2. **User Input:** The code prompts the user to enter some text using `input`.\n",
        "3. **Example Usage:** The example usage demonstrates how to call the function with the user-provided text.\n",
        "\n",
        "This version allows you to experiment with the Markov chain generation without relying on a separate text file."
      ],
      "metadata": {
        "id": "62bG7x0yozlC"
      }
    }
  ],
  "metadata": {
    "colab": {
      "provenance": []
    },
    "kernelspec": {
      "display_name": "Python 3",
      "name": "python3"
    }
  },
  "nbformat": 4,
  "nbformat_minor": 0
}